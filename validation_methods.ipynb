{
 "cells": [
  {
   "cell_type": "markdown",
   "metadata": {},
   "source": [
    "# Ring Finding With Various Validation Methods\n",
    "Here we will find all the rings associated with each T-sites in a list of frameworks using various methods to determine if a ring is counted or not. \\\n",
    "Command to find the rings:\n",
    "~~~\n",
    "zse.rings.get_rings(atoms,index,validation,cutoff)\n",
    "~~~\n",
    "**INPUTS**\n",
    " - **atoms**: ASE atoms object of the zeolite\n",
    " - **index**: Index of the atom to classify\n",
    " - **validation**: Method to determine valid rings\n",
    " - **cutoff**: Required for the sphere method, which sets the size of sphere to use\n",
    "\n",
    "**Available Validation Methods**\n",
    " - None\n",
    "   - All rings that do not contain a shortcut\n",
    " - 'crum'\n",
    "   - Ring that do not contain a shortcut, and do not traverse a stacked set of smaller rings.\n",
    " - 'sastre'\n",
    "   - All shortest path rings that pass through an atom.\n",
    " - 'vertex'\n",
    "   - Finds all the rings contained within the vertex symbol of a T-site"
   ]
  },
  {
   "cell_type": "code",
   "execution_count": 1,
   "metadata": {},
   "outputs": [],
   "source": [
    "from zse.collections import *\n",
    "from zse.utilities import *\n",
    "from zse.development import *\n",
    "import numpy as np\n",
    "from zse.rings import *"
   ]
  },
  {
   "cell_type": "markdown",
   "metadata": {},
   "source": [
    "# Frameworks to test:"
   ]
  },
  {
   "cell_type": "code",
   "execution_count": 2,
   "metadata": {},
   "outputs": [],
   "source": [
    "frameworks = ['ABW','ACO','AFI','ANA','ATO','BCT','DFT','GIS','MER','MON','NPO']"
   ]
  },
  {
   "cell_type": "markdown",
   "metadata": {},
   "source": [
    "# All Rings With No Shortcut"
   ]
  },
  {
   "cell_type": "code",
   "execution_count": 6,
   "metadata": {},
   "outputs": [
    {
     "name": "stdout",
     "output_type": "stream",
     "text": [
      "FW \t T \t Rings\n",
      "ABW \t T1 \t [4, 4, 6, 6, 6, 8, 8, 8, 8]\n",
      "ACO \t T1 \t [4, 4, 4, 6, 6, 6, 8, 8, 8, 8, 8, 8, 10, 10, 10, 10, 10, 10, 10, 10, 10, 10, 10, 10, 10, 10, 10]\n",
      "AFI \t T1 \t [4, 6, 6, 6, 6, 6, 6, 6, 6, 6, 6, 6, 6, 6, 12, 14, 14, 14, 14, 14, 14, 14]\n",
      "ANA \t T1 \t [4, 4, 6, 6, 8, 8, 8, 8, 8, 8, 8, 8, 8, 8, 8, 8, 8, 8, 8, 8]\n",
      "ATO \t T1 \t [4, 6, 6, 6, 6, 6, 6, 6, 6, 6, 8, 8, 8, 8, 8, 8, 8, 8, 12, 12, 12, 12, 12, 12, 12, 12, 12, 12, 12, 12, 12, 12, 12, 12, 12, 12, 12, 12]\n",
      "BCT \t T1 \t [4, 6, 6, 6, 6, 6, 6, 8, 8, 8, 8, 8, 8, 8, 8, 8, 8, 8, 8, 8, 8, 8, 8, 8, 8, 8, 8]\n",
      "DFT \t T1 \t [4, 4, 6, 6, 6, 6, 6, 6, 8, 8, 8, 8, 8, 8, 8, 8, 8, 8, 10, 10, 10, 10, 10, 10, 10, 10, 10, 10]\n",
      "GIS \t T1 \t [4, 4, 4, 8, 8, 8, 8]\n",
      "MER \t T1 \t [4, 4, 4, 8, 8, 8, 8, 10, 10, 10, 10, 10, 10, 10, 10, 10, 10, 14, 14, 14, 14, 14, 14, 14, 14, 14, 14, 14, 14, 14, 14]\n",
      "MON \t T1 \t [4, 5, 5, 5, 5, 5, 8, 8, 8, 8, 8, 8]\n",
      "NPO \t T1 \t [3, 6, 6, 6, 6, 6, 6, 12, 12, 12, 12, 12, 12, 12, 12, 12, 12, 12, 12, 12, 12, 12, 12, 12, 12, 12, 12, 12, 12, 12, 12, 12, 12, 12, 12, 12, 12, 12, 12, 12, 12, 12, 12, 12, 12, 12, 12]\n"
     ]
    }
   ],
   "source": [
    "print('FW \\t T \\t Rings')\n",
    "for code in frameworks:\n",
    "    z = framework(code)\n",
    "    os,om,oinds = get_tsites(code)\n",
    "    for i,o in enumerate(os):\n",
    "        c,r,ra,a = get_rings(z,oinds[i],validation='None',max_ring=14)\n",
    "        print('{0} \\t {1} \\t {2}'.format(code,o,c))"
   ]
  },
  {
   "cell_type": "markdown",
   "metadata": {},
   "source": [
    "# Crum Method\n",
    "Method that implements our new ring counting rule."
   ]
  },
  {
   "cell_type": "code",
   "execution_count": 8,
   "metadata": {},
   "outputs": [
    {
     "name": "stdout",
     "output_type": "stream",
     "text": [
      "FW \t T \t Rings\n",
      "ABW \t T1 \t [4, 4, 6, 6, 6, 8, 8, 8, 8]\n",
      "ACO \t T1 \t [4, 4, 4, 8, 8, 8, 8, 8, 8]\n",
      "AFI \t T1 \t [4, 6, 6, 6, 6, 6, 6, 6, 6, 6, 6, 6, 6, 6, 12]\n",
      "ANA \t T1 \t [4, 4, 6, 6, 8, 8, 8, 8, 8, 8, 8, 8, 8, 8, 8, 8, 8, 8, 8, 8]\n",
      "ATO \t T1 \t [4, 6, 6, 6, 6, 6, 6, 6, 6, 6, 12, 12, 12, 12, 12, 12, 12, 12, 12, 12, 12, 12, 12, 12, 12, 12, 12, 12, 12, 12]\n",
      "BCT \t T1 \t [4, 6, 6, 6, 6, 6, 6, 8, 8, 8, 8, 8, 8, 8, 8, 8, 8, 8, 8]\n",
      "DFT \t T1 \t [4, 4, 6, 6, 6, 6, 6, 6, 8, 8, 8, 8, 8, 8, 8, 8, 8, 8]\n",
      "GIS \t T1 \t [4, 4, 4, 8, 8, 8, 8]\n",
      "MER \t T1 \t [4, 4, 4, 8, 8, 8, 8]\n",
      "MON \t T1 \t [4, 5, 5, 5, 5, 5, 8, 8, 8, 8, 8, 8]\n",
      "NPO \t T1 \t [3, 6, 6, 6, 6, 6, 6, 12, 12, 12, 12, 12, 12, 12, 12, 12, 12, 12, 12, 12, 12, 12, 12, 12, 12, 12, 12, 12, 12, 12, 12, 12, 12, 12, 12, 12, 12, 12, 12, 12, 12, 12, 12, 12, 12, 12, 12]\n"
     ]
    }
   ],
   "source": [
    "print('FW \\t T \\t Rings')\n",
    "for code in frameworks:\n",
    "    z = framework(code)\n",
    "    os,om,oinds = get_tsites(code)\n",
    "    for i,o in enumerate(os):\n",
    "        c,r,ra,a = get_rings(z,oinds[i],validation='crum',max_ring=14)\n",
    "        print('{0} \\t {1} \\t {2}'.format(code,o,c))"
   ]
  },
  {
   "cell_type": "markdown",
   "metadata": {},
   "source": [
    "# Sastre Method\n",
    "Method implemented in the Sastre & Corma paper for ring finding. "
   ]
  },
  {
   "cell_type": "code",
   "execution_count": 7,
   "metadata": {},
   "outputs": [
    {
     "name": "stdout",
     "output_type": "stream",
     "text": [
      "FW \t T \t Rings\n",
      "ABW \t T1 \t [4, 4, 6, 6, 6, 8, 8, 8, 8]\n",
      "ACO \t T1 \t [4, 4, 4, 8, 8, 8, 8, 8, 8]\n",
      "AFI \t T1 \t [4, 6, 6, 6, 6, 6, 6, 6, 6, 6, 6, 6, 6, 6]\n",
      "ANA \t T1 \t [4, 4, 6, 6, 8, 8, 8, 8, 8, 8, 8, 8, 8, 8, 8, 8, 8, 8, 8, 8]\n",
      "ATO \t T1 \t [4, 6, 6, 6, 6, 6, 6, 6, 6, 6]\n",
      "BCT \t T1 \t [4, 6, 6, 6, 6, 6, 6]\n",
      "DFT \t T1 \t [4, 4, 6, 6, 6, 6, 6, 6, 8, 8, 8, 8, 8, 8, 8, 8, 8, 8]\n",
      "GIS \t T1 \t [4, 4, 4, 8, 8, 8, 8]\n",
      "MER \t T1 \t [4, 4, 4, 8, 8, 8, 8]\n",
      "MON \t T1 \t [4, 5, 5, 5, 5, 5, 8, 8, 8, 8, 8, 8]\n",
      "NPO \t T1 \t [3, 6, 6, 6, 6, 6, 6]\n"
     ]
    }
   ],
   "source": [
    "print('FW \\t T \\t Rings')\n",
    "for code in frameworks:\n",
    "    z = framework(code)\n",
    "    os,om,oinds = get_tsites(code)\n",
    "    for i,o in enumerate(os):\n",
    "        c,r,ra,a = get_rings(z,oinds[i],validation='sastre',max_ring=14)\n",
    "        print('{0} \\t {1} \\t {2}'.format(code,o,c))"
   ]
  },
  {
   "cell_type": "markdown",
   "metadata": {},
   "source": [
    "# Vertex Method\n",
    "Method that finds all the rings in a T-site's vertex symbol."
   ]
  },
  {
   "cell_type": "code",
   "execution_count": 9,
   "metadata": {},
   "outputs": [
    {
     "name": "stdout",
     "output_type": "stream",
     "text": [
      "FW \t T \t Rings\n",
      "ABW \t T1 \t [4, 4, 6, 6, 6, 8, 8]\n",
      "ACO \t T1 \t [4, 4, 4, 8, 8, 8, 8, 8, 8]\n",
      "AFI \t T1 \t [4, 6, 6, 6, 6, 6, 6, 6, 6, 6, 6, 6]\n",
      "ANA \t T1 \t [4, 4, 6, 6, 8, 8, 8, 8, 8, 8, 8, 8]\n",
      "ATO \t T1 \t [4, 6, 6, 6, 6, 6, 6, 6, 6, 6]\n",
      "BCT \t T1 \t [4, 6, 6, 6, 6, 6, 6]\n",
      "DFT \t T1 \t [4, 4, 6, 6, 6, 6, 8, 8, 8, 8, 8, 8]\n",
      "GIS \t T1 \t [4, 4, 4, 8, 8, 8, 8]\n",
      "MER \t T1 \t [4, 4, 4, 8, 8, 8, 8]\n",
      "MON \t T1 \t [4, 5, 5, 5, 5, 8, 8, 8, 8]\n",
      "NPO \t T1 \t [3, 6, 6, 6, 6, 6, 6]\n"
     ]
    }
   ],
   "source": [
    "print('FW \\t T \\t Rings')\n",
    "for code in frameworks:\n",
    "    z = framework(code)\n",
    "    os,om,oinds = get_tsites(code)\n",
    "    for i,o in enumerate(os):\n",
    "        c,r,ra,a = get_rings(z,oinds[i],validation='vertex',max_ring=14)\n",
    "        print('{0} \\t {1} \\t {2}'.format(code,o,c))"
   ]
  },
  {
   "cell_type": "code",
   "execution_count": null,
   "metadata": {},
   "outputs": [],
   "source": []
  }
 ],
 "metadata": {
  "kernelspec": {
   "display_name": "Python 3",
   "language": "python",
   "name": "python3"
  },
  "language_info": {
   "codemirror_mode": {
    "name": "ipython",
    "version": 3
   },
   "file_extension": ".py",
   "mimetype": "text/x-python",
   "name": "python",
   "nbconvert_exporter": "python",
   "pygments_lexer": "ipython3",
   "version": "3.7.6"
  }
 },
 "nbformat": 4,
 "nbformat_minor": 4
}
