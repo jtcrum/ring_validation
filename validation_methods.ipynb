{
 "cells": [
  {
   "cell_type": "markdown",
   "metadata": {},
   "source": [
    "# Ring Finding With Various Validation Methods\n",
    "Here we will find all the rings associated with each oxygen in a list of frameworks using various methods to determine if a ring is valid or not. \\\n",
    "Command to find the rings:\n",
    "~~~\n",
    "zse.development.get_orings(atoms,index,code,validation,cutoff)\n",
    "~~~\n",
    "**INPUTS**\n",
    " - **atoms**: ASE atoms object of the zeolite\n",
    " - **index**: Index of the oxygen atom to classify\n",
    " - **code**:  IZA code for the zeolite\n",
    " - **validation**: Method to determine valid rings\n",
    " - **cutoff**: Required for the sphere method, which sets the size of sphere to use\n",
    "\n",
    "**Available Validation Methods**\n",
    " - 'sastre'\n",
    " - 'sp'\n",
    " - 'cross_distance'\n",
    " - 'sphere'"
   ]
  },
  {
   "cell_type": "code",
   "execution_count": 2,
   "metadata": {},
   "outputs": [],
   "source": [
    "from zse.collections import *\n",
    "from zse.utilities import *\n",
    "from zse.development import *\n",
    "import numpy as np"
   ]
  },
  {
   "cell_type": "markdown",
   "metadata": {},
   "source": [
    "# Frameworks to test:"
   ]
  },
  {
   "cell_type": "code",
   "execution_count": 4,
   "metadata": {},
   "outputs": [],
   "source": [
    "frameworks = ['ABW','ACO','AFI','ANA','ATO','BCT','DFT','GIS','MER','MON','NPO']"
   ]
  },
  {
   "cell_type": "markdown",
   "metadata": {},
   "source": [
    "# Sastre Method\n",
    "Method implemented in the Sastre & Corma paper for ring finding. "
   ]
  },
  {
   "cell_type": "code",
   "execution_count": 7,
   "metadata": {},
   "outputs": [
    {
     "name": "stdout",
     "output_type": "stream",
     "text": [
      "FW \t Oxy \t Rings\n",
      "ABW \t O1 \t [8, 8, 4, 4]\n",
      "ABW \t O2 \t [8, 6, 6, 4]\n",
      "ABW \t O3 \t [8, 8, 8, 8, 6, 6]\n",
      "ACO \t O1 \t [8, 8, 8, 8, 8, 8]\n",
      "ACO \t O2 \t [8, 8, 4, 4]\n",
      "AFI \t O1 \t [6, 6, 6, 6, 6, 6, 6, 6]\n",
      "AFI \t O2 \t [12, 6, 6, 6, 6, 6, 6, 4]\n",
      "AFI \t O3 \t [12, 6, 6, 6, 6, 6]\n",
      "AFI \t O4 \t [6, 6, 6, 6, 6, 6, 6, 4]\n",
      "ANA \t O1 \t [8, 8, 8, 8, 8, 8, 8, 8, 6, 4]\n",
      "ATO \t O1 \t [12, 12, 12, 12, 12, 12, 12, 12, 12, 12, 6, 6, 6, 6, 6, 6]\n",
      "ATO \t O2 \t [6, 6, 6, 6, 6, 4]\n",
      "ATO \t O3 \t [12, 12, 12, 12, 12, 12, 12, 12, 12, 12, 12, 12, 12, 12, 12, 12, 12, 12, 12, 12, 6, 6, 4]\n",
      "ATO \t O4 \t [12, 12, 12, 12, 12, 12, 12, 12, 12, 12, 6, 6, 6, 6, 6]\n",
      "BCT \t O1 \t [8, 8, 8, 8, 8, 8, 8, 8, 8, 8, 6, 6, 6, 6]\n",
      "BCT \t O2 \t [8, 8, 8, 8, 8, 8, 8, 8, 8, 8, 6, 6, 4]\n",
      "DFT \t O1 \t [8, 8, 8, 8, 8, 6, 6, 6, 6, 4]\n",
      "DFT \t O2 \t [8, 8, 8, 8, 6, 6, 6, 6, 4]\n",
      "DFT \t O3 \t [8, 8, 8, 8, 8, 8, 4]\n",
      "GIS \t O1 \t [8, 4, 4]\n",
      "GIS \t O2 \t [8, 8, 8, 4]\n",
      "MER \t O1 \t [8, 4, 4]\n",
      "MER \t O2 \t [8, 4, 4]\n",
      "MER \t O3 \t [8, 8, 8, 4]\n",
      "MER \t O4 \t [8, 8, 8, 4]\n",
      "MON \t O1 \t [8, 8, 8, 8, 5, 5]\n",
      "MON \t O2 \t [8, 8, 8, 5, 5, 4]\n",
      "MON \t O3 \t [8, 8, 5, 5, 5, 5]\n",
      "NPO \t O1 \t [12, 12, 12, 12, 12, 12, 12, 12, 12, 12, 12, 12, 12, 12, 12, 12, 12, 12, 12, 12, 6, 6, 3]\n",
      "NPO \t O2 \t [12, 12, 12, 12, 12, 12, 12, 12, 12, 12, 12, 12, 12, 12, 12, 12, 12, 12, 12, 12, 6, 6, 6, 6]\n"
     ]
    }
   ],
   "source": [
    "print('FW \\t Oxy \\t Rings')\n",
    "for code in frameworks:\n",
    "    z = framework(code)\n",
    "    os,om,oinds = get_osites(code)\n",
    "    for i,o in enumerate(os):\n",
    "        c,r,a = get_orings(z,oinds[i],code,'sastre')\n",
    "        print('{0} \\t {1} \\t {2}'.format(code,o,c))"
   ]
  },
  {
   "cell_type": "markdown",
   "metadata": {},
   "source": [
    "# Custom Shortest Path Method\n",
    "Custum method for determing valid rings by ensuring for paths of 8 T-sites\n",
    "or larger, the current path is the shortest possible way to connect each\n",
    "node long the path. Alternate paths must be shorter than the current path\n",
    "to be considered invalid.\n",
    "\n",
    "7 T-site paths and smaller are handled slightly\n",
    "different where if the alrternate path is equal in length to the current\n",
    "path it is considered non valid."
   ]
  },
  {
   "cell_type": "code",
   "execution_count": 8,
   "metadata": {
    "scrolled": false
   },
   "outputs": [
    {
     "name": "stdout",
     "output_type": "stream",
     "text": [
      "FW \t Oxy \t Rings\n",
      "ABW \t O1 \t [8, 8, 4, 4]\n",
      "ABW \t O2 \t [8, 6, 6, 4]\n",
      "ABW \t O3 \t [8, 8, 8, 8, 6, 6]\n",
      "ACO \t O1 \t [8, 8, 8, 8, 8, 8]\n",
      "ACO \t O2 \t [8, 8, 4, 4]\n",
      "AFI \t O1 \t [6, 6, 6, 6, 6, 6, 6, 6]\n",
      "AFI \t O2 \t [12, 6, 6, 6, 6, 6, 6, 4]\n",
      "AFI \t O3 \t [12, 6, 6, 6, 6, 6]\n",
      "AFI \t O4 \t [6, 6, 6, 6, 6, 6, 6, 4]\n",
      "ANA \t O1 \t [6, 4]\n",
      "ATO \t O1 \t [12, 6, 6, 6, 6, 6, 6]\n",
      "ATO \t O2 \t [6, 6, 6, 6, 6, 4]\n",
      "ATO \t O3 \t [6, 6, 4]\n",
      "ATO \t O4 \t [6, 6, 6, 6, 6]\n",
      "BCT \t O1 \t [8, 6, 6, 6, 6]\n",
      "BCT \t O2 \t [8, 6, 6, 4]\n",
      "DFT \t O1 \t [8, 8, 6, 6, 6, 6, 4]\n",
      "DFT \t O2 \t [8, 6, 6, 6, 6, 4]\n",
      "DFT \t O3 \t [8, 8, 8, 4]\n",
      "GIS \t O1 \t [8, 4, 4]\n",
      "GIS \t O2 \t [8, 8, 8, 4]\n",
      "MER \t O1 \t [8, 4, 4]\n",
      "MER \t O2 \t [8, 4, 4]\n",
      "MER \t O3 \t [8, 8, 8, 4]\n",
      "MER \t O4 \t [8, 8, 8, 4]\n",
      "MON \t O1 \t [8, 8, 8, 8, 5, 5]\n",
      "MON \t O2 \t [8, 8, 8, 5, 5, 4]\n",
      "MON \t O3 \t [8, 8, 5, 5, 5, 5]\n",
      "NPO \t O1 \t [12, 6, 6, 3]\n",
      "NPO \t O2 \t [12, 12, 6, 6, 6, 6]\n"
     ]
    }
   ],
   "source": [
    "print('FW \\t Oxy \\t Rings')\n",
    "for code in frameworks:\n",
    "    z = framework(code)\n",
    "    os,om,oinds = get_osites(code)\n",
    "    for i,o in enumerate(os):\n",
    "        c,r,a = get_orings(z,oinds[i],code,'sp')\n",
    "        print('{0} \\t {1} \\t {2}'.format(code,o,c))"
   ]
  },
  {
   "cell_type": "markdown",
   "metadata": {},
   "source": [
    "# Cross Si-Si Distance Method\n",
    "The original method I was using where cross Si-Si distance is used to determine if a path is a ring or not."
   ]
  },
  {
   "cell_type": "code",
   "execution_count": 5,
   "metadata": {},
   "outputs": [
    {
     "name": "stdout",
     "output_type": "stream",
     "text": [
      "FW \t Oxy \t Rings\n",
      "ABW \t O1 \t [8, 8, 4, 4]\n",
      "ABW \t O2 \t [8, 6, 6, 4]\n",
      "ABW \t O3 \t [8, 8, 8, 8, 6, 6]\n",
      "ACO \t O1 \t [8, 8, 8, 8, 8, 8]\n",
      "ACO \t O2 \t [8, 8, 4, 4]\n",
      "AFI \t O1 \t [6, 6, 6, 6, 6, 6, 6, 6]\n",
      "AFI \t O2 \t [12, 6, 6, 6, 6, 6, 6, 4]\n",
      "AFI \t O3 \t [12, 6, 6, 6, 6, 6]\n",
      "AFI \t O4 \t [6, 6, 6, 6, 6, 6, 6, 4]\n",
      "ANA \t O1 \t [8, 8, 8, 8, 8, 8, 8, 8, 6, 4]\n",
      "ATO \t O1 \t [12, 12, 12, 6, 6, 6, 6, 6, 6]\n",
      "ATO \t O2 \t [12, 12, 6, 6, 6, 6, 6, 4]\n",
      "ATO \t O3 \t [12, 12, 12, 12, 12, 12, 12, 6, 6, 4]\n",
      "ATO \t O4 \t [12, 12, 12, 12, 12, 12, 6, 6, 6, 6, 6]\n",
      "BCT \t O1 \t [8, 8, 8, 8, 8, 8, 8, 8, 6, 6, 6, 6]\n",
      "BCT \t O2 \t [8, 8, 8, 8, 8, 8, 8, 8, 6, 6, 4]\n",
      "DFT \t O1 \t [8, 8, 8, 8, 8, 6, 6, 6, 6, 4]\n",
      "DFT \t O2 \t [8, 8, 8, 8, 6, 6, 6, 6, 4]\n",
      "DFT \t O3 \t [8, 8, 8, 8, 8, 8, 4]\n",
      "GIS \t O1 \t [8, 4, 4]\n",
      "GIS \t O2 \t [8, 8, 8, 4]\n",
      "MER \t O1 \t [8, 4, 4]\n",
      "MER \t O2 \t [8, 4, 4]\n",
      "MER \t O3 \t [8, 8, 8, 4]\n",
      "MER \t O4 \t [8, 8, 8, 4]\n",
      "MON \t O1 \t [8, 8, 8, 8, 5, 5]\n",
      "MON \t O2 \t [8, 8, 8, 5, 5, 4]\n",
      "MON \t O3 \t [8, 8, 5, 5, 5, 5]\n",
      "NPO \t O1 \t [12, 12, 12, 12, 12, 12, 6, 6, 3]\n",
      "NPO \t O2 \t [12, 12, 12, 12, 12, 12, 6, 6, 6, 6]\n"
     ]
    }
   ],
   "source": [
    "print('FW \\t Oxy \\t Rings')\n",
    "for code in frameworks:\n",
    "    z = framework(code)\n",
    "    os,om,oinds = get_osites(code)\n",
    "    for i,o in enumerate(os):\n",
    "        c,r,a = get_orings(z,oinds[i],code,'cross_distance')\n",
    "        print('{0} \\t {1} \\t {2}'.format(code,o,c))"
   ]
  },
  {
   "cell_type": "markdown",
   "metadata": {},
   "source": [
    "# Sphere Method\n",
    "Places a sphere in the center of mass of the path, and checks if any non path atoms intersect the sphere. \\\n",
    "This method requires an extra input for cutoff radius of the sphere"
   ]
  },
  {
   "cell_type": "code",
   "execution_count": 7,
   "metadata": {},
   "outputs": [
    {
     "name": "stdout",
     "output_type": "stream",
     "text": [
      "FW \t Oxy \t Rings\n",
      "ABW \t O1 \t [8, 8, 4, 4]\n",
      "ABW \t O2 \t [8, 6, 6, 4]\n",
      "ABW \t O3 \t [8, 8, 8, 8, 6, 6]\n",
      "ACO \t O1 \t [8, 8, 8, 8, 8, 8]\n",
      "ACO \t O2 \t [8, 8, 4, 4]\n",
      "AFI \t O1 \t [6, 6, 6, 6]\n",
      "AFI \t O2 \t [12, 6, 6, 4]\n",
      "AFI \t O3 \t [12, 6, 6, 6]\n",
      "AFI \t O4 \t [6, 6, 6, 6, 6, 4]\n",
      "ANA \t O1 \t [8, 8, 8, 8, 8, 8, 8, 8, 6, 4]\n",
      "ATO \t O1 \t [12, 12, 12, 12, 12, 12, 12, 12, 12, 12, 6, 6]\n",
      "ATO \t O2 \t [4]\n",
      "ATO \t O3 \t [12, 12, 12, 12, 12, 12, 12, 12, 12, 12, 12, 12, 12, 12, 12, 12, 12, 12, 12, 12, 6, 6, 4]\n",
      "ATO \t O4 \t [12, 12, 12, 12, 12, 12, 12, 12, 12, 12, 6, 6]\n",
      "BCT \t O1 \t [8, 8, 8, 8, 8, 8, 8, 8, 8, 8, 6, 6, 6, 6]\n",
      "BCT \t O2 \t [8, 8, 8, 8, 8, 8, 8, 8, 8, 8, 6, 6, 4]\n",
      "DFT \t O1 \t [8, 8, 8, 8, 8, 6, 6, 4]\n",
      "DFT \t O2 \t [8, 8, 8, 8, 6, 6, 4]\n",
      "DFT \t O3 \t [8, 8, 8, 8, 8, 8, 4]\n",
      "GIS \t O1 \t [8, 4, 4]\n",
      "GIS \t O2 \t [8, 8, 8, 4]\n",
      "MER \t O1 \t [8, 4, 4]\n",
      "MER \t O2 \t [8, 4, 4]\n",
      "MER \t O3 \t [8, 8, 8, 4]\n",
      "MER \t O4 \t [8, 8, 8, 4]\n",
      "MON \t O1 \t [8, 8, 8, 8, 5, 5]\n",
      "MON \t O2 \t [8, 8, 8, 5, 5, 4]\n",
      "MON \t O3 \t [8, 8, 5, 5, 5, 5]\n",
      "NPO \t O1 \t [12, 12, 12, 12, 12, 12, 12, 12, 12, 12, 12, 12, 12, 12, 12, 12, 12, 12, 12, 12, 3]\n",
      "NPO \t O2 \t [12, 12, 12, 12, 12, 12, 12, 12, 12, 12, 12, 12, 12, 12, 12, 12, 12, 12, 12, 12]\n"
     ]
    }
   ],
   "source": [
    "print('FW \\t Oxy \\t Rings')\n",
    "for code in frameworks:\n",
    "    z = framework(code)\n",
    "    os,om,oinds = get_osites(code)\n",
    "    for i,o in enumerate(os):\n",
    "        c,r,a = get_orings(z,oinds[i],code,'sphere',3.15)\n",
    "        print('{0} \\t {1} \\t {2}'.format(code,o,c))"
   ]
  },
  {
   "cell_type": "code",
   "execution_count": null,
   "metadata": {},
   "outputs": [],
   "source": []
  }
 ],
 "metadata": {
  "kernelspec": {
   "display_name": "Python 3",
   "language": "python",
   "name": "python3"
  }
 },
 "nbformat": 4,
 "nbformat_minor": 4
}
